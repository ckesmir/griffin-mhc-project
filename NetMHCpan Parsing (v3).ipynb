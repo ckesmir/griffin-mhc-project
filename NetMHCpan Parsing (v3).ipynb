{
 "cells": [
  {
   "cell_type": "markdown",
   "id": "4f650395",
   "metadata": {},
   "source": [
    "# Parsing NetMHCpan 4.1 Output"
   ]
  },
  {
   "cell_type": "markdown",
   "id": "6a6b22a1",
   "metadata": {},
   "source": [
    "## Importing modules"
   ]
  },
  {
   "cell_type": "code",
   "execution_count": 22,
   "id": "4a467ced",
   "metadata": {},
   "outputs": [],
   "source": [
    "import numpy as np\n",
    "import re\n",
    "import matplotlib.pyplot as plt\n",
    "import pandas as pd\n",
    "from scipy import stats"
   ]
  },
  {
   "cell_type": "markdown",
   "id": "76871857",
   "metadata": {},
   "source": [
    "## Parsing random peptide scores"
   ]
  },
  {
   "cell_type": "code",
   "execution_count": 23,
   "id": "9f7ff108",
   "metadata": {},
   "outputs": [],
   "source": [
    "#Define a function to parse all binding scores from the file of random peptides\n",
    "def parse_random_peptide_scores(filename) :\n",
    "    random_peptide_scores = []\n",
    "    with open(filename) as file :\n",
    "        for line in file :\n",
    "            line = line.rstrip().split()\n",
    "            if \"PEPLIST\" in line and \"Number\" not in line:\n",
    "                random_peptide_scores.append(float(line[11]))\n",
    "                \n",
    "    return random_peptide_scores"
   ]
  },
  {
   "cell_type": "markdown",
   "id": "c1f230ee",
   "metadata": {},
   "source": [
    "## Parsing viral peptide scores and ranks"
   ]
  },
  {
   "cell_type": "code",
   "execution_count": 24,
   "id": "8806a7f0",
   "metadata": {},
   "outputs": [],
   "source": [
    "#Define a function to create a dataframe containing each 9-mer peptide with its binding score and rank\n",
    "def parse_binding_scores(filename) :\n",
    "    peptides = []\n",
    "    binding_scores = []\n",
    "    ranks = []\n",
    "    with open(filename) as file :\n",
    "        for line in file :\n",
    "            if line.isspace() == True :\n",
    "                continue\n",
    "            line = line.rstrip().split()\n",
    "            if (bool(re.match(\"\\d+\", line[0]))) == True and len(line[2]) == 9 :\n",
    "                peptides.append(line[2])\n",
    "                binding_scores.append(float(line[11]))\n",
    "                ranks.append(float(line[12]))\n",
    "    \n",
    "    data = {\n",
    "        \"Peptide\": peptides,\n",
    "        \"Binding Score\": binding_scores,\n",
    "        \"Built-In Rank\": ranks\n",
    "    }\n",
    "    \n",
    "    return pd.DataFrame(data)"
   ]
  },
  {
   "cell_type": "markdown",
   "id": "5d94d7ea",
   "metadata": {},
   "source": [
    "## Transforming scores to ranks"
   ]
  },
  {
   "cell_type": "code",
   "execution_count": 25,
   "id": "6ea5ced5",
   "metadata": {},
   "outputs": [],
   "source": [
    "#Define a function that transforms a list of binding scores into a list of ranks using random peptide scores\n",
    "def transform_scores(binding_scores, random_peptide_scores) :\n",
    "    ranks = []\n",
    "    for score in binding_scores :\n",
    "        ranks.append(100 - stats.percentileofscore(random_peptide_scores, score))\n",
    "        \n",
    "    return ranks"
   ]
  },
  {
   "cell_type": "markdown",
   "id": "5a9d12f9",
   "metadata": {},
   "source": [
    "## Parsing files"
   ]
  },
  {
   "cell_type": "code",
   "execution_count": 37,
   "id": "d278111a",
   "metadata": {},
   "outputs": [],
   "source": [
    "#Parse random peptides\n",
    "HLA_A_02_01_random_peptide_scores = parse_random_peptide_scores(\"Random_peptides_HLA_A_02_01.out\")\n",
    "HLA_A_03_01_random_peptide_scores = parse_random_peptide_scores(\"Random_peptides_HLA_A_03_01.out\")\n",
    "Patr_A_01_01_random_peptide_scores = parse_random_peptide_scores(\"Random_peptides_Patr_A_01_01.out\")\n",
    "\n",
    "#Create empty dataframes with the correct columns\n",
    "empty_df_columns = {\n",
    "    \"Peptide\": [],\n",
    "    \"Binding Score\": [],\n",
    "    \"Built-In Rank\": []\n",
    "}\n",
    "\n",
    "HLA_A_02_01_df = pd.DataFrame(empty_df_columns)\n",
    "HLA_A_03_01_df = pd.DataFrame(empty_df_columns)\n",
    "Patr_A_01_01_df = pd.DataFrame(empty_df_columns)\n",
    "\n",
    "#Parse each virus file and append them to the dataframes\n",
    "viruses = [\"Western_lowland_gorilla_simian_foamy_virus\", \"Torque_teno_hominid_virus_1\", \"Alphapolyomavirus_gorillae\", \"Primate_bocaparvovirus_1\", \"Human_mastadenovirus_B\", \"Simian_immunodeficiency_virus_1\", \"Hepatitis_B_virus\", \"Human_metapneumovirus\", \"Torque_teno_virus_23\", \"Chimpanzee_associated_circovirus_1\", \"Chimpanzee_associated_cyclovirus_1\", \"Chimpanzee_associated_porprismacovirus_1\", \"Chimpanzee_faeces_associated_circular_DNA_virus_1\", \"Panine_alphaherpesvirus_3\", \"Primate_T-lymphotropic_virus\", \"Monkeypox_virus\", \"Rhinovirus_A\"]\n",
    "\n",
    "for virus in viruses :\n",
    "    HLA_A_02_01_df = pd.concat([HLA_A_02_01_df, parse_binding_scores(virus + \"_HLA_A_02_01.out\")], ignore_index=True)\n",
    "    HLA_A_03_01_df = pd.concat([HLA_A_03_01_df, parse_binding_scores(virus + \"_HLA_A_03_01.out\")], ignore_index=True)\n",
    "    Patr_A_01_01_df = pd.concat([Patr_A_01_01_df, parse_binding_scores(virus + \"_Patr_A_01_01.out\")], ignore_index=True)"
   ]
  },
  {
   "cell_type": "code",
   "execution_count": 38,
   "id": "9de34d69",
   "metadata": {},
   "outputs": [
    {
     "name": "stdout",
     "output_type": "stream",
     "text": [
      "          Peptide  Binding Score  Built-In Rank  Computed Rank\n",
      "0       MDTYEEEES       0.000002         90.000        92.9465\n",
      "1       DTYEEEESV       0.016793          5.204         9.3380\n",
      "2       TYEEEESVA       0.000121         38.800        51.1085\n",
      "3       YEEEESVAS       0.000089         43.000        55.0545\n",
      "4       EEEESVAST       0.000055         49.500        61.2775\n",
      "...           ...            ...            ...            ...\n",
      "131922  PYDLLKHEW       0.000166         34.857        47.0245\n",
      "131923  YDLLKHEWY       0.000015         68.333        76.7660\n",
      "131924  DLLKHEWYE       0.000572         22.185        32.4690\n",
      "131925  LLKHEWYEK       0.000740         20.080        29.7695\n",
      "131926  LKHEWYEKF       0.000162         35.154        47.3485\n",
      "\n",
      "[131927 rows x 4 columns]\n",
      "          Peptide  Binding Score  Built-In Rank  Computed Rank\n",
      "0       MDTYEEEES       0.000001         95.000        97.7660\n",
      "1       DTYEEEESV       0.000134         30.364        44.9110\n",
      "2       TYEEEESVA       0.000014         66.250        78.9940\n",
      "3       YEEEESVAS       0.000008         75.000        85.1875\n",
      "4       EEEESVAST       0.000017         62.500        76.5640\n",
      "...           ...            ...            ...            ...\n",
      "131922  PYDLLKHEW       0.000067         39.500        55.8105\n",
      "131923  YDLLKHEWY       0.000115         32.222        47.3770\n",
      "131924  DLLKHEWYE       0.000220         25.095        37.8810\n",
      "131925  LLKHEWYEK       0.234082          1.071         2.0840\n",
      "131926  LKHEWYEKF       0.000069         39.000        55.3325\n",
      "\n",
      "[131927 rows x 4 columns]\n",
      "          Peptide  Binding Score  Built-In Rank  Computed Rank\n",
      "0       MDTYEEEES       0.000001         95.000        95.6870\n",
      "1       DTYEEEESV       0.000086         27.875        40.2985\n",
      "2       TYEEEESVA       0.000023         45.500        60.6400\n",
      "3       YEEEESVAS       0.000007         65.000        78.3260\n",
      "4       EEEESVAST       0.000012         56.667        70.6340\n",
      "...           ...            ...            ...            ...\n",
      "131922  PYDLLKHEW       0.000872         11.646        17.2165\n",
      "131923  YDLLKHEWY       0.000105         25.818        37.5520\n",
      "131924  DLLKHEWYE       0.000153         22.353        32.9140\n",
      "131925  LLKHEWYEK       0.099646          0.685         1.6990\n",
      "131926  LKHEWYEKF       0.000086         27.875        40.2985\n",
      "\n",
      "[131927 rows x 4 columns]\n"
     ]
    }
   ],
   "source": [
    "HLA_A_02_01_df['Computed Rank'] = transform_scores(list(HLA_A_02_01_df.iloc[:,1]), HLA_A_02_01_random_peptide_scores)\n",
    "HLA_A_03_01_df['Computed Rank'] = transform_scores(list(HLA_A_03_01_df.iloc[:,1]), HLA_A_03_01_random_peptide_scores)\n",
    "Patr_A_01_01_df['Computed Rank'] = transform_scores(list(Patr_A_01_01_df.iloc[:,1]), Patr_A_01_01_random_peptide_scores)"
   ]
  },
  {
   "cell_type": "markdown",
   "id": "f1e67c67",
   "metadata": {},
   "source": [
    "## Plotting and Correlation"
   ]
  },
  {
   "cell_type": "code",
   "execution_count": 43,
   "id": "d72db455",
   "metadata": {},
   "outputs": [
    {
     "name": "stdout",
     "output_type": "stream",
     "text": [
      "Spearman correlation HLA-A*02:01 - SpearmanrResult(correlation=0.9999999999116542, pvalue=0.0)\n",
      "Spearman correlation HLA-A*03:01 - SpearmanrResult(correlation=0.9999999999107304, pvalue=0.0)\n",
      "Spearman correlation Patr-A*01:01 - SpearmanrResult(correlation=0.9999999999131144, pvalue=0.0)\n"
     ]
    },
    {
     "data": {
      "image/png": "[encoded data removed]",
      "text/plain": [
       "<Figure size 432x288 with 1 Axes>"
      ]
     },
     "metadata": {
      "needs_background": "light"
     },
     "output_type": "display_data"
    }
   ],
   "source": [
    "#Plot of built-in rank against computed rank and computing Spearman correlation\n",
    "plt.scatter(list(HLA_A_02_01_df.iloc[:,2]), list(HLA_A_02_01_df.iloc[:,3]), label=\"HLA-A*02:01\")\n",
    "plt.scatter(list(HLA_A_03_01_df.iloc[:,2]), list(HLA_A_03_01_df.iloc[:,3]), label=\"HLA-A*03:01\")\n",
    "plt.scatter(list(Patr_A_01_01_df.iloc[:,2]), list(Patr_A_01_01_df.iloc[:,3]), label=\"Patr-A*01:01\")\n",
    "plt.xlabel(\"Built-in Rank\")\n",
    "plt.ylabel(\"Computed Rank\")\n",
    "plt.legend()\n",
    "\n",
    "print(\"Spearman correlation HLA-A*02:01 - \" + str(stats.spearmanr(list(HLA_A_02_01_df.iloc[:,2]), list(HLA_A_02_01_df.iloc[:,3]))))\n",
    "print(\"Spearman correlation HLA-A*03:01 - \" + str(stats.spearmanr(list(HLA_A_03_01_df.iloc[:,2]), list(HLA_A_03_01_df.iloc[:,3]))))\n",
    "print(\"Spearman correlation Patr-A*01:01 - \" + str(stats.spearmanr(list(Patr_A_01_01_df.iloc[:,2]), list(Patr_A_01_01_df.iloc[:,3]))))"
   ]
  }
 ],
 "metadata": {
  "kernelspec": {
   "display_name": "Python 3 (ipykernel)",
   "language": "python",
   "name": "python3"
  },
  "language_info": {
   "codemirror_mode": {
    "name": "ipython",
    "version": 3
   },
   "file_extension": ".py",
   "mimetype": "text/x-python",
   "name": "python",
   "nbconvert_exporter": "python",
   "pygments_lexer": "ipython3",
   "version": "3.9.12"
  }
 },
 "nbformat": 4,
 "nbformat_minor": 5
}
